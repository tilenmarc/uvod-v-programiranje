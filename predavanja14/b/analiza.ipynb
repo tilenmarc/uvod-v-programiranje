{
 "cells": [
  {
   "cell_type": "markdown",
   "metadata": {},
   "source": [
    "# Analiza filmov\n",
    "V tem dokumentu bomo analizirali filmme."
   ]
  },
  {
   "cell_type": "code",
   "execution_count": 2,
   "metadata": {},
   "outputs": [],
   "source": [
    "import pandas as pd"
   ]
  },
  {
   "cell_type": "code",
   "execution_count": 3,
   "metadata": {},
   "outputs": [],
   "source": [
    "filmi = pd.read_csv(\"filmi.csv\", index_col=\"id\")"
   ]
  },
  {
   "cell_type": "code",
   "execution_count": 4,
   "metadata": {},
   "outputs": [],
   "source": [
    "zanri = pd.read_csv(\"filmi_zanri.csv\")"
   ]
  },
  {
   "cell_type": "code",
   "execution_count": 5,
   "metadata": {},
   "outputs": [
    {
     "data": {
      "text/plain": [
       "0    alien\n",
       "1    earth\n",
       "2    invad\n",
       "dtype: object"
      ]
     },
     "execution_count": 5,
     "metadata": {},
     "output_type": "execute_result"
    }
   ],
   "source": [
    "def koren_besede(beseda):\n",
    "    if len(beseda) <= 2 or beseda == \"the\":\n",
    "        return \"@\"\n",
    "\n",
    "    if beseda[-1] in \"sey\":\n",
    "        return beseda[:-1]\n",
    "    if beseda[-3:] == \"ing\":\n",
    "        return beseda[:-3]\n",
    "    if beseda[-2:] == \"ed\" or beseda[-2:] == \"es\":\n",
    "        return beseda[:-2]\n",
    "    \n",
    "    return beseda\n",
    "\n",
    "\n",
    "def opis_v_korene(opis):\n",
    "    opis = opis.lower()\n",
    "    opis = ''.join(znak for znak in opis if znak.isalpha() or znak.isspace())\n",
    "\n",
    "    return pd.Series(sorted(list(set([koren_besede(beseda) for beseda in opis.split(\" \") if koren_besede(beseda) != \"@\"]))))\n",
    "\n",
    "opis_v_korene(\"Aliens invade earth.\")\n"
   ]
  },
  {
   "cell_type": "code",
   "execution_count": 6,
   "metadata": {},
   "outputs": [],
   "source": [
    "koreni = filmi[\"opis\"].apply(opis_v_korene)"
   ]
  },
  {
   "cell_type": "code",
   "execution_count": 7,
   "metadata": {},
   "outputs": [
    {
     "data": {
      "text/html": [
       "<div>\n",
       "<style scoped>\n",
       "    .dataframe tbody tr th:only-of-type {\n",
       "        vertical-align: middle;\n",
       "    }\n",
       "\n",
       "    .dataframe tbody tr th {\n",
       "        vertical-align: top;\n",
       "    }\n",
       "\n",
       "    .dataframe thead th {\n",
       "        text-align: right;\n",
       "    }\n",
       "</style>\n",
       "<table border=\"1\" class=\"dataframe\">\n",
       "  <thead>\n",
       "    <tr style=\"text-align: right;\">\n",
       "      <th></th>\n",
       "      <th>0</th>\n",
       "      <th>1</th>\n",
       "      <th>2</th>\n",
       "      <th>3</th>\n",
       "      <th>4</th>\n",
       "      <th>5</th>\n",
       "      <th>6</th>\n",
       "      <th>7</th>\n",
       "      <th>8</th>\n",
       "      <th>9</th>\n",
       "      <th>...</th>\n",
       "      <th>23</th>\n",
       "      <th>24</th>\n",
       "      <th>25</th>\n",
       "      <th>26</th>\n",
       "      <th>27</th>\n",
       "      <th>28</th>\n",
       "      <th>29</th>\n",
       "      <th>30</th>\n",
       "      <th>31</th>\n",
       "      <th>32</th>\n",
       "    </tr>\n",
       "    <tr>\n",
       "      <th>id</th>\n",
       "      <th></th>\n",
       "      <th></th>\n",
       "      <th></th>\n",
       "      <th></th>\n",
       "      <th></th>\n",
       "      <th></th>\n",
       "      <th></th>\n",
       "      <th></th>\n",
       "      <th></th>\n",
       "      <th></th>\n",
       "      <th></th>\n",
       "      <th></th>\n",
       "      <th></th>\n",
       "      <th></th>\n",
       "      <th></th>\n",
       "      <th></th>\n",
       "      <th></th>\n",
       "      <th></th>\n",
       "      <th></th>\n",
       "      <th></th>\n",
       "      <th></th>\n",
       "    </tr>\n",
       "  </thead>\n",
       "  <tbody>\n",
       "    <tr>\n",
       "      <th>43014</th>\n",
       "      <td>dangerou</td>\n",
       "      <td>determin</td>\n",
       "      <td>develop</td>\n",
       "      <td>fad</td>\n",
       "      <td>film</td>\n",
       "      <td>mak</td>\n",
       "      <td>relationship</td>\n",
       "      <td>return</td>\n",
       "      <td>screenwriter</td>\n",
       "      <td>star</td>\n",
       "      <td>...</td>\n",
       "      <td>NaN</td>\n",
       "      <td>NaN</td>\n",
       "      <td>NaN</td>\n",
       "      <td>NaN</td>\n",
       "      <td>NaN</td>\n",
       "      <td>NaN</td>\n",
       "      <td>NaN</td>\n",
       "      <td>NaN</td>\n",
       "      <td>NaN</td>\n",
       "      <td>NaN</td>\n",
       "    </tr>\n",
       "    <tr>\n",
       "      <th>42192</th>\n",
       "      <td>ag</td>\n",
       "      <td>and</td>\n",
       "      <td>broadwa</td>\n",
       "      <td>but</td>\n",
       "      <td>circl</td>\n",
       "      <td>friend</td>\n",
       "      <td>her</td>\n",
       "      <td>herself</td>\n",
       "      <td>ingénu</td>\n",
       "      <td>insinuate</td>\n",
       "      <td>...</td>\n",
       "      <td>NaN</td>\n",
       "      <td>NaN</td>\n",
       "      <td>NaN</td>\n",
       "      <td>NaN</td>\n",
       "      <td>NaN</td>\n",
       "      <td>NaN</td>\n",
       "      <td>NaN</td>\n",
       "      <td>NaN</td>\n",
       "      <td>NaN</td>\n",
       "      <td>NaN</td>\n",
       "    </tr>\n",
       "    <tr>\n",
       "      <th>42876</th>\n",
       "      <td>and</td>\n",
       "      <td>ar</td>\n",
       "      <td>bandit</td>\n",
       "      <td>brid</td>\n",
       "      <td>from</td>\n",
       "      <td>ghost</td>\n",
       "      <td>her</td>\n",
       "      <td>husband</td>\n",
       "      <td>murder</td>\n",
       "      <td>perspective</td>\n",
       "      <td>...</td>\n",
       "      <td>NaN</td>\n",
       "      <td>NaN</td>\n",
       "      <td>NaN</td>\n",
       "      <td>NaN</td>\n",
       "      <td>NaN</td>\n",
       "      <td>NaN</td>\n",
       "      <td>NaN</td>\n",
       "      <td>NaN</td>\n",
       "      <td>NaN</td>\n",
       "      <td>NaN</td>\n",
       "    </tr>\n",
       "    <tr>\n",
       "      <th>42546</th>\n",
       "      <td>anyon</td>\n",
       "      <td>best</td>\n",
       "      <td>but</td>\n",
       "      <td>du</td>\n",
       "      <td>friend</td>\n",
       "      <td>hi</td>\n",
       "      <td>humanoid</td>\n",
       "      <td>insan</td>\n",
       "      <td>insistenc</td>\n",
       "      <td>invisibl</td>\n",
       "      <td>...</td>\n",
       "      <td>NaN</td>\n",
       "      <td>NaN</td>\n",
       "      <td>NaN</td>\n",
       "      <td>NaN</td>\n",
       "      <td>NaN</td>\n",
       "      <td>NaN</td>\n",
       "      <td>NaN</td>\n",
       "      <td>NaN</td>\n",
       "      <td>NaN</td>\n",
       "      <td>NaN</td>\n",
       "    </tr>\n",
       "    <tr>\n",
       "      <th>42646</th>\n",
       "      <td>adventurer</td>\n",
       "      <td>african</td>\n",
       "      <td>allan</td>\n",
       "      <td>attempt</td>\n",
       "      <td>diamond</td>\n",
       "      <td>dur</td>\n",
       "      <td>expedition</td>\n",
       "      <td>explorer</td>\n",
       "      <td>fabl</td>\n",
       "      <td>for</td>\n",
       "      <td>...</td>\n",
       "      <td>who</td>\n",
       "      <td>NaN</td>\n",
       "      <td>NaN</td>\n",
       "      <td>NaN</td>\n",
       "      <td>NaN</td>\n",
       "      <td>NaN</td>\n",
       "      <td>NaN</td>\n",
       "      <td>NaN</td>\n",
       "      <td>NaN</td>\n",
       "      <td>NaN</td>\n",
       "    </tr>\n",
       "    <tr>\n",
       "      <th>...</th>\n",
       "      <td>...</td>\n",
       "      <td>...</td>\n",
       "      <td>...</td>\n",
       "      <td>...</td>\n",
       "      <td>...</td>\n",
       "      <td>...</td>\n",
       "      <td>...</td>\n",
       "      <td>...</td>\n",
       "      <td>...</td>\n",
       "      <td>...</td>\n",
       "      <td>...</td>\n",
       "      <td>...</td>\n",
       "      <td>...</td>\n",
       "      <td>...</td>\n",
       "      <td>...</td>\n",
       "      <td>...</td>\n",
       "      <td>...</td>\n",
       "      <td>...</td>\n",
       "      <td>...</td>\n",
       "      <td>...</td>\n",
       "      <td>...</td>\n",
       "    </tr>\n",
       "    <tr>\n",
       "      <th>15239678</th>\n",
       "      <td>against</td>\n",
       "      <td>and</td>\n",
       "      <td>atreide</td>\n",
       "      <td>between</td>\n",
       "      <td>choic</td>\n",
       "      <td>conspirator</td>\n",
       "      <td>destroy</td>\n",
       "      <td>endeavor</td>\n",
       "      <td>fac</td>\n",
       "      <td>famil</td>\n",
       "      <td>...</td>\n",
       "      <td>who</td>\n",
       "      <td>with</td>\n",
       "      <td>NaN</td>\n",
       "      <td>NaN</td>\n",
       "      <td>NaN</td>\n",
       "      <td>NaN</td>\n",
       "      <td>NaN</td>\n",
       "      <td>NaN</td>\n",
       "      <td>NaN</td>\n",
       "      <td>NaN</td>\n",
       "    </tr>\n",
       "    <tr>\n",
       "      <th>4772188</th>\n",
       "      <td>and</td>\n",
       "      <td>animal</td>\n",
       "      <td>boat</td>\n",
       "      <td>but</td>\n",
       "      <td>cat</td>\n",
       "      <td>despit</td>\n",
       "      <td>devastat</td>\n",
       "      <td>difference</td>\n",
       "      <td>find</td>\n",
       "      <td>flood</td>\n",
       "      <td>...</td>\n",
       "      <td>with</td>\n",
       "      <td>NaN</td>\n",
       "      <td>NaN</td>\n",
       "      <td>NaN</td>\n",
       "      <td>NaN</td>\n",
       "      <td>NaN</td>\n",
       "      <td>NaN</td>\n",
       "      <td>NaN</td>\n",
       "      <td>NaN</td>\n",
       "      <td>NaN</td>\n",
       "    </tr>\n",
       "    <tr>\n",
       "      <th>14961016</th>\n",
       "      <td>act</td>\n",
       "      <td>after</td>\n",
       "      <td>and</td>\n",
       "      <td>arbitrar</td>\n",
       "      <td>brazil</td>\n",
       "      <td>chart</td>\n",
       "      <td>cours</td>\n",
       "      <td>dictatorship</td>\n",
       "      <td>dur</td>\n",
       "      <td>famil</td>\n",
       "      <td>...</td>\n",
       "      <td>NaN</td>\n",
       "      <td>NaN</td>\n",
       "      <td>NaN</td>\n",
       "      <td>NaN</td>\n",
       "      <td>NaN</td>\n",
       "      <td>NaN</td>\n",
       "      <td>NaN</td>\n",
       "      <td>NaN</td>\n",
       "      <td>NaN</td>\n",
       "      <td>NaN</td>\n",
       "    </tr>\n",
       "    <tr>\n",
       "      <th>20221436</th>\n",
       "      <td>authenticall</td>\n",
       "      <td>can</td>\n",
       "      <td>cartel</td>\n",
       "      <td>death</td>\n",
       "      <td>each</td>\n",
       "      <td>emilia</td>\n",
       "      <td>enlist</td>\n",
       "      <td>fak</td>\n",
       "      <td>finall</td>\n",
       "      <td>follow</td>\n",
       "      <td>...</td>\n",
       "      <td>that</td>\n",
       "      <td>their</td>\n",
       "      <td>thre</td>\n",
       "      <td>tru</td>\n",
       "      <td>unappreciat</td>\n",
       "      <td>women</td>\n",
       "      <td>NaN</td>\n",
       "      <td>NaN</td>\n",
       "      <td>NaN</td>\n",
       "      <td>NaN</td>\n",
       "    </tr>\n",
       "    <tr>\n",
       "      <th>30953759</th>\n",
       "      <td>activist</td>\n",
       "      <td>allianc</td>\n",
       "      <td>and</td>\n",
       "      <td>bankapos</td>\n",
       "      <td>basel</td>\n",
       "      <td>between</td>\n",
       "      <td>collectiv</td>\n",
       "      <td>destruction</td>\n",
       "      <td>develop</td>\n",
       "      <td>film</td>\n",
       "      <td>...</td>\n",
       "      <td>NaN</td>\n",
       "      <td>NaN</td>\n",
       "      <td>NaN</td>\n",
       "      <td>NaN</td>\n",
       "      <td>NaN</td>\n",
       "      <td>NaN</td>\n",
       "      <td>NaN</td>\n",
       "      <td>NaN</td>\n",
       "      <td>NaN</td>\n",
       "      <td>NaN</td>\n",
       "    </tr>\n",
       "  </tbody>\n",
       "</table>\n",
       "<p>1075 rows × 33 columns</p>\n",
       "</div>"
      ],
      "text/plain": [
       "                    0         1        2         3        4            5   \\\n",
       "id                                                                          \n",
       "43014         dangerou  determin  develop       fad     film          mak   \n",
       "42192               ag       and  broadwa       but    circl       friend   \n",
       "42876              and        ar   bandit      brid     from        ghost   \n",
       "42546            anyon      best      but        du   friend           hi   \n",
       "42646       adventurer   african    allan   attempt  diamond          dur   \n",
       "...                ...       ...      ...       ...      ...          ...   \n",
       "15239678       against       and  atreide   between    choic  conspirator   \n",
       "4772188            and    animal     boat       but      cat       despit   \n",
       "14961016           act     after      and  arbitrar   brazil        chart   \n",
       "20221436  authenticall       can   cartel     death     each       emilia   \n",
       "30953759      activist   allianc      and  bankapos    basel      between   \n",
       "\n",
       "                    6             7             8            9   ...    23  \\\n",
       "id                                                               ...         \n",
       "43014     relationship        return  screenwriter         star  ...   NaN   \n",
       "42192              her       herself        ingénu    insinuate  ...   NaN   \n",
       "42876              her       husband        murder  perspective  ...   NaN   \n",
       "42546         humanoid         insan     insistenc     invisibl  ...   NaN   \n",
       "42646       expedition      explorer          fabl          for  ...   who   \n",
       "...                ...           ...           ...          ...  ...   ...   \n",
       "15239678       destroy      endeavor           fac        famil  ...   who   \n",
       "4772188       devastat    difference          find        flood  ...  with   \n",
       "14961016         cours  dictatorship           dur        famil  ...   NaN   \n",
       "20221436        enlist           fak        finall       follow  ...  that   \n",
       "30953759     collectiv   destruction       develop         film  ...   NaN   \n",
       "\n",
       "             24    25   26           27     28   29   30   31   32  \n",
       "id                                                                  \n",
       "43014       NaN   NaN  NaN          NaN    NaN  NaN  NaN  NaN  NaN  \n",
       "42192       NaN   NaN  NaN          NaN    NaN  NaN  NaN  NaN  NaN  \n",
       "42876       NaN   NaN  NaN          NaN    NaN  NaN  NaN  NaN  NaN  \n",
       "42546       NaN   NaN  NaN          NaN    NaN  NaN  NaN  NaN  NaN  \n",
       "42646       NaN   NaN  NaN          NaN    NaN  NaN  NaN  NaN  NaN  \n",
       "...         ...   ...  ...          ...    ...  ...  ...  ...  ...  \n",
       "15239678   with   NaN  NaN          NaN    NaN  NaN  NaN  NaN  NaN  \n",
       "4772188     NaN   NaN  NaN          NaN    NaN  NaN  NaN  NaN  NaN  \n",
       "14961016    NaN   NaN  NaN          NaN    NaN  NaN  NaN  NaN  NaN  \n",
       "20221436  their  thre  tru  unappreciat  women  NaN  NaN  NaN  NaN  \n",
       "30953759    NaN   NaN  NaN          NaN    NaN  NaN  NaN  NaN  NaN  \n",
       "\n",
       "[1075 rows x 33 columns]"
      ]
     },
     "execution_count": 7,
     "metadata": {},
     "output_type": "execute_result"
    }
   ],
   "source": [
    "koreni"
   ]
  },
  {
   "cell_type": "code",
   "execution_count": 8,
   "metadata": {},
   "outputs": [
    {
     "data": {
      "text/plain": [
       "zanr\n",
       "Action             0.083721\n",
       "Action Epic        0.026977\n",
       "Adult Animation    0.004651\n",
       "Adventure          0.150698\n",
       "Adventure Epic     0.034419\n",
       "                     ...   \n",
       "Western            0.025116\n",
       "Western Epic       0.008372\n",
       "Whodunnit          0.009302\n",
       "Workplace Drama    0.011163\n",
       "Zombie Horror      0.000930\n",
       "Name: id_filma, Length: 161, dtype: float64"
      ]
     },
     "execution_count": 8,
     "metadata": {},
     "output_type": "execute_result"
    }
   ],
   "source": [
    "verjetnost_zanrov = zanri.groupby('zanr')[\"id_filma\"].count() / len(filmi)\n",
    "verjetnost_zanrov"
   ]
  },
  {
   "cell_type": "code",
   "execution_count": 9,
   "metadata": {},
   "outputs": [],
   "source": [
    "film_koren = koreni.stack().reset_index(\"id\").rename(columns={0: \"koren\"})"
   ]
  },
  {
   "cell_type": "code",
   "execution_count": 10,
   "metadata": {},
   "outputs": [],
   "source": [
    "koren_zanr = pd.merge(film_koren, zanri, left_on=\"id\", right_on=\"id_filma\")[[\"koren\", \"zanr\"]]"
   ]
  },
  {
   "cell_type": "code",
   "execution_count": 11,
   "metadata": {},
   "outputs": [],
   "source": [
    "verjetnot_korenov = pd.crosstab(koren_zanr[\"koren\"], koren_zanr[\"zanr\"]) / zanri.groupby(\"zanr\").size() + 0.0001"
   ]
  },
  {
   "cell_type": "code",
   "execution_count": 12,
   "metadata": {},
   "outputs": [],
   "source": [
    "\n",
    "def napovej_zanr(opis):\n",
    "    verjetnosti = verjetnot_korenov[verjetnot_korenov.index.isin(opis_v_korene(opis))].prod() * verjetnost_zanrov\n",
    "    return verjetnosti.sort_values(ascending=False).head(5)"
   ]
  },
  {
   "cell_type": "code",
   "execution_count": 13,
   "metadata": {},
   "outputs": [
    {
     "data": {
      "text/plain": [
       "zanr\n",
       "Comedy           1.388561e-10\n",
       "Drama            6.108796e-11\n",
       "Coming-of-Age    1.658979e-11\n",
       "Mystery          4.753802e-12\n",
       "Music            4.571192e-12\n",
       "dtype: float64"
      ]
     },
     "execution_count": 13,
     "metadata": {},
     "output_type": "execute_result"
    }
   ],
   "source": [
    "opis = \"A student of math searches for a meaning of life and finds it in programming.\"\n",
    "\n",
    "napovej_zanr(opis)"
   ]
  },
  {
   "cell_type": "code",
   "execution_count": 14,
   "metadata": {},
   "outputs": [],
   "source": [
    "import numpy as np"
   ]
  },
  {
   "cell_type": "code",
   "execution_count": 28,
   "metadata": {},
   "outputs": [],
   "source": [
    "seznam = [float(i) for i in range(10**7)]\n",
    "a = np.array(seznam)"
   ]
  },
  {
   "cell_type": "code",
   "execution_count": 22,
   "metadata": {},
   "outputs": [
    {
     "data": {
      "text/plain": [
       "0.732297420501709"
      ]
     },
     "execution_count": 22,
     "metadata": {},
     "output_type": "execute_result"
    }
   ],
   "source": [
    "import time\n",
    "zacetek = time.time()\n",
    "seznam2 = [x**2 for x in seznam]\n",
    "time.time() - zacetek\n"
   ]
  },
  {
   "cell_type": "code",
   "execution_count": 24,
   "metadata": {},
   "outputs": [
    {
     "data": {
      "text/plain": [
       "0.04859113693237305"
      ]
     },
     "execution_count": 24,
     "metadata": {},
     "output_type": "execute_result"
    }
   ],
   "source": [
    "import time\n",
    "zacetek = time.time()\n",
    "b = a * a\n",
    "time.time() - zacetek"
   ]
  },
  {
   "cell_type": "code",
   "execution_count": 30,
   "metadata": {},
   "outputs": [
    {
     "data": {
      "text/plain": [
       "(1000, 10000)"
      ]
     },
     "execution_count": 30,
     "metadata": {},
     "output_type": "execute_result"
    }
   ],
   "source": [
    "a = np.reshape(a, (1000, 10000))\n",
    "a.shape"
   ]
  },
  {
   "cell_type": "code",
   "execution_count": null,
   "metadata": {},
   "outputs": [],
   "source": []
  }
 ],
 "metadata": {
  "kernelspec": {
   "display_name": "data_analysis",
   "language": "python",
   "name": "python3"
  },
  "language_info": {
   "codemirror_mode": {
    "name": "ipython",
    "version": 3
   },
   "file_extension": ".py",
   "mimetype": "text/x-python",
   "name": "python",
   "nbconvert_exporter": "python",
   "pygments_lexer": "ipython3",
   "version": "3.11.8"
  }
 },
 "nbformat": 4,
 "nbformat_minor": 2
}
