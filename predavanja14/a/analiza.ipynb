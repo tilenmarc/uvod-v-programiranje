{
 "cells": [
  {
   "cell_type": "markdown",
   "metadata": {},
   "source": [
    "# Analiza podatkov"
   ]
  },
  {
   "cell_type": "code",
   "execution_count": 1,
   "metadata": {},
   "outputs": [],
   "source": [
    "import pandas as pd\n",
    "\n",
    "filmi = pd.read_csv(\"filmi.csv\", index_col=\"id\")"
   ]
  },
  {
   "cell_type": "code",
   "execution_count": 2,
   "metadata": {},
   "outputs": [],
   "source": [
    "zanri = pd.read_csv(\"filmi_zanri.csv\")"
   ]
  },
  {
   "cell_type": "code",
   "execution_count": 8,
   "metadata": {},
   "outputs": [
    {
     "data": {
      "text/plain": [
       "0        alien\n",
       "1    spaceship\n",
       "2         file\n",
       "3      another\n",
       "4       planet\n",
       "dtype: object"
      ]
     },
     "execution_count": 8,
     "metadata": {},
     "output_type": "execute_result"
    }
   ],
   "source": [
    "def koren_besede(beseda):\n",
    "    if len(beseda) <= 2 or beseda == \"the\" or beseda == \"and\":\n",
    "        return \"\"\n",
    "\n",
    "    if beseda[-1] in \"sye\":\n",
    "        return beseda[:-1]\n",
    "\n",
    "    if beseda[-3:] == \"ing\":\n",
    "        return beseda[:-3]\n",
    "\n",
    "    if beseda[-2:] == \"ed\":\n",
    "        return beseda[:-2]\n",
    "    \n",
    "    return beseda\n",
    "\n",
    "\n",
    "def koreni_opisa(opis):\n",
    "    opis = opis.lower()\n",
    "    opis = \"\".join([crka for crka in opis if crka.isalpha() or crka.isspace()])\n",
    "\n",
    "    besede = opis.split(\" \")\n",
    "\n",
    "    koreni = [koren_besede(beseda) for beseda in besede if koren_besede(beseda) != \"\"]\n",
    "\n",
    "    return pd.Series(koreni)\n",
    "\n",
    "\n",
    "\n",
    "koreni_opisa(\"Alien spaceship files to another planet.\")\n"
   ]
  },
  {
   "cell_type": "code",
   "execution_count": 10,
   "metadata": {},
   "outputs": [],
   "source": [
    "koren = filmi[\"opis\"].apply(koreni_opisa)"
   ]
  },
  {
   "cell_type": "code",
   "execution_count": 17,
   "metadata": {},
   "outputs": [],
   "source": [
    "filmi_besede = koren.stack().reset_index(\"id\").rename(columns={0:\"koren\"})"
   ]
  },
  {
   "cell_type": "code",
   "execution_count": 19,
   "metadata": {},
   "outputs": [
    {
     "data": {
      "text/html": [
       "<div>\n",
       "<style scoped>\n",
       "    .dataframe tbody tr th:only-of-type {\n",
       "        vertical-align: middle;\n",
       "    }\n",
       "\n",
       "    .dataframe tbody tr th {\n",
       "        vertical-align: top;\n",
       "    }\n",
       "\n",
       "    .dataframe thead th {\n",
       "        text-align: right;\n",
       "    }\n",
       "</style>\n",
       "<table border=\"1\" class=\"dataframe\">\n",
       "  <thead>\n",
       "    <tr style=\"text-align: right;\">\n",
       "      <th></th>\n",
       "      <th>koren</th>\n",
       "      <th>zanr</th>\n",
       "    </tr>\n",
       "  </thead>\n",
       "  <tbody>\n",
       "    <tr>\n",
       "      <th>0</th>\n",
       "      <td>screenwriter</td>\n",
       "      <td>Dark Comedy</td>\n",
       "    </tr>\n",
       "    <tr>\n",
       "      <th>1</th>\n",
       "      <td>screenwriter</td>\n",
       "      <td>Film Noir</td>\n",
       "    </tr>\n",
       "    <tr>\n",
       "      <th>2</th>\n",
       "      <td>screenwriter</td>\n",
       "      <td>Psychological Drama</td>\n",
       "    </tr>\n",
       "    <tr>\n",
       "      <th>3</th>\n",
       "      <td>screenwriter</td>\n",
       "      <td>Showbiz Drama</td>\n",
       "    </tr>\n",
       "    <tr>\n",
       "      <th>4</th>\n",
       "      <td>screenwriter</td>\n",
       "      <td>Tragedy</td>\n",
       "    </tr>\n",
       "    <tr>\n",
       "      <th>...</th>\n",
       "      <td>...</td>\n",
       "      <td>...</td>\n",
       "    </tr>\n",
       "    <tr>\n",
       "      <th>91289</th>\n",
       "      <td>basel</td>\n",
       "      <td>Documentary</td>\n",
       "    </tr>\n",
       "    <tr>\n",
       "      <th>91290</th>\n",
       "      <td>israeli</td>\n",
       "      <td>Political Documentary</td>\n",
       "    </tr>\n",
       "    <tr>\n",
       "      <th>91291</th>\n",
       "      <td>israeli</td>\n",
       "      <td>Documentary</td>\n",
       "    </tr>\n",
       "    <tr>\n",
       "      <th>91292</th>\n",
       "      <td>journalist</td>\n",
       "      <td>Political Documentary</td>\n",
       "    </tr>\n",
       "    <tr>\n",
       "      <th>91293</th>\n",
       "      <td>journalist</td>\n",
       "      <td>Documentary</td>\n",
       "    </tr>\n",
       "  </tbody>\n",
       "</table>\n",
       "<p>91294 rows × 2 columns</p>\n",
       "</div>"
      ],
      "text/plain": [
       "              koren                   zanr\n",
       "0      screenwriter            Dark Comedy\n",
       "1      screenwriter              Film Noir\n",
       "2      screenwriter    Psychological Drama\n",
       "3      screenwriter          Showbiz Drama\n",
       "4      screenwriter                Tragedy\n",
       "...             ...                    ...\n",
       "91289         basel            Documentary\n",
       "91290       israeli  Political Documentary\n",
       "91291       israeli            Documentary\n",
       "91292    journalist  Political Documentary\n",
       "91293    journalist            Documentary\n",
       "\n",
       "[91294 rows x 2 columns]"
      ]
     },
     "execution_count": 19,
     "metadata": {},
     "output_type": "execute_result"
    }
   ],
   "source": [
    "zanri_koreni = pd.merge(filmi_besede, zanri, left_on=\"id\", right_on=\"id_filma\")[[\"koren\", \"zanr\"]]\n",
    "zanri_koreni"
   ]
  },
  {
   "cell_type": "code",
   "execution_count": 26,
   "metadata": {},
   "outputs": [],
   "source": [
    "koreni_verjetnosti = pd.crosstab(zanri_koreni[\"koren\"], zanri_koreni[\"zanr\"]) / zanri.groupby(\"zanr\").size() + 0.001"
   ]
  },
  {
   "cell_type": "code",
   "execution_count": 23,
   "metadata": {},
   "outputs": [
    {
     "data": {
      "text/plain": [
       "zanr\n",
       "Action             0.083721\n",
       "Action Epic        0.026977\n",
       "Adult Animation    0.004651\n",
       "Adventure          0.150698\n",
       "Adventure Epic     0.034419\n",
       "                     ...   \n",
       "Western            0.025116\n",
       "Western Epic       0.008372\n",
       "Whodunnit          0.009302\n",
       "Workplace Drama    0.011163\n",
       "Zombie Horror      0.000930\n",
       "Length: 161, dtype: float64"
      ]
     },
     "execution_count": 23,
     "metadata": {},
     "output_type": "execute_result"
    }
   ],
   "source": [
    "verjetnosti_zanrov = zanri.groupby(\"zanr\").size() / len(filmi)\n",
    "verjetnosti_zanrov"
   ]
  },
  {
   "cell_type": "code",
   "execution_count": 24,
   "metadata": {},
   "outputs": [],
   "source": [
    "opis = \"Alien spaceship files to another planet.\""
   ]
  },
  {
   "cell_type": "code",
   "execution_count": 32,
   "metadata": {},
   "outputs": [],
   "source": [
    "def zanr_opisa(opis):\n",
    "  return (koreni_verjetnosti[koreni_verjetnosti.index.isin(koreni_opisa(opis))].prod() * verjetnosti_zanrov).sort_values(ascending=False).head(5)"
   ]
  },
  {
   "cell_type": "code",
   "execution_count": 33,
   "metadata": {},
   "outputs": [
    {
     "data": {
      "text/plain": [
       "zanr\n",
       "Space Sci-Fi     6.356848e-08\n",
       "Sci-Fi           1.843009e-08\n",
       "Sci-Fi Epic      1.597424e-08\n",
       "Adventure        4.722130e-09\n",
       "Coming-of-Age    4.307442e-10\n",
       "dtype: float64"
      ]
     },
     "execution_count": 33,
     "metadata": {},
     "output_type": "execute_result"
    }
   ],
   "source": [
    "zanr_opisa(opis)"
   ]
  },
  {
   "cell_type": "code",
   "execution_count": 35,
   "metadata": {},
   "outputs": [
    {
     "data": {
      "text/plain": [
       "zanr\n",
       "Coming-of-Age    1.049019e-10\n",
       "Comedy           4.214424e-11\n",
       "Drama            3.329717e-11\n",
       "Music            1.121251e-11\n",
       "Romance          7.090614e-12\n",
       "dtype: float64"
      ]
     },
     "execution_count": 35,
     "metadata": {},
     "output_type": "execute_result"
    }
   ],
   "source": [
    "zanr_opisa(\"Young student of math finds programming anoying and searches for the meaning of life.\")"
   ]
  },
  {
   "cell_type": "code",
   "execution_count": null,
   "metadata": {},
   "outputs": [],
   "source": []
  }
 ],
 "metadata": {
  "kernelspec": {
   "display_name": "data_analysis",
   "language": "python",
   "name": "python3"
  },
  "language_info": {
   "codemirror_mode": {
    "name": "ipython",
    "version": 3
   },
   "file_extension": ".py",
   "mimetype": "text/x-python",
   "name": "python",
   "nbconvert_exporter": "python",
   "pygments_lexer": "ipython3",
   "version": "3.11.8"
  }
 },
 "nbformat": 4,
 "nbformat_minor": 2
}
